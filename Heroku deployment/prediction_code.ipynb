{
 "cells": [
  {
   "cell_type": "code",
   "execution_count": null,
   "id": "transsexual-cancellation",
   "metadata": {},
   "outputs": [],
   "source": [
    "# Loading model\n",
    "\n",
    "from keras.models import load_model\n",
    "\n",
    "model = load_model('/content/sigmoid_final_cataract-90.h5')"
   ]
  },
  {
   "cell_type": "code",
   "execution_count": null,
   "id": "abstract-cycle",
   "metadata": {},
   "outputs": [],
   "source": [
    "#preprocessing - image before prediction\n",
    "\n",
    "#step 1\n",
    "image =  image# load image \n",
    "\n",
    "#step 2\n",
    "import cv2\n",
    "Image = cv2.resize(image, (64, 64))\n",
    "\n",
    "#Step 3 - Reshape the image \n",
    "import numpy as np\n",
    "\n",
    "image = image.reshape(1 ,64 , 64 , -1)\n",
    "\n",
    "#Step 4 predict \n",
    "\n",
    "model.predict([image])"
   ]
  },
  {
   "cell_type": "code",
   "execution_count": null,
   "id": "naked-hotel",
   "metadata": {},
   "outputs": [],
   "source": []
  }
 ],
 "metadata": {
  "kernelspec": {
   "display_name": "Python 3",
   "language": "python",
   "name": "python3"
  },
  "language_info": {
   "codemirror_mode": {
    "name": "ipython",
    "version": 3
   },
   "file_extension": ".py",
   "mimetype": "text/x-python",
   "name": "python",
   "nbconvert_exporter": "python",
   "pygments_lexer": "ipython3",
   "version": "3.8.5"
  }
 },
 "nbformat": 4,
 "nbformat_minor": 5
}
