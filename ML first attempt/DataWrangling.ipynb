{
 "cells": [
  {
   "cell_type": "code",
   "execution_count": 1,
   "id": "functional-computer",
   "metadata": {},
   "outputs": [
    {
     "data": {
      "text/plain": [
       "['..',\n",
       " 'C:\\\\Users\\\\beto_\\\\GitHub\\\\InnoSpark-edir\\\\ML first attempt',\n",
       " 'c:\\\\users\\\\beto_\\\\anaconda3\\\\envs\\\\innospark\\\\python37.zip',\n",
       " 'c:\\\\users\\\\beto_\\\\anaconda3\\\\envs\\\\innospark\\\\DLLs',\n",
       " 'c:\\\\users\\\\beto_\\\\anaconda3\\\\envs\\\\innospark\\\\lib',\n",
       " 'c:\\\\users\\\\beto_\\\\anaconda3\\\\envs\\\\innospark',\n",
       " '',\n",
       " 'c:\\\\users\\\\beto_\\\\anaconda3\\\\envs\\\\innospark\\\\lib\\\\site-packages',\n",
       " 'c:\\\\users\\\\beto_\\\\anaconda3\\\\envs\\\\innospark\\\\lib\\\\site-packages\\\\win32',\n",
       " 'c:\\\\users\\\\beto_\\\\anaconda3\\\\envs\\\\innospark\\\\lib\\\\site-packages\\\\win32\\\\lib',\n",
       " 'c:\\\\users\\\\beto_\\\\anaconda3\\\\envs\\\\innospark\\\\lib\\\\site-packages\\\\Pythonwin',\n",
       " 'c:\\\\users\\\\beto_\\\\anaconda3\\\\envs\\\\innospark\\\\lib\\\\site-packages\\\\IPython\\\\extensions',\n",
       " 'C:\\\\Users\\\\beto_\\\\.ipython']"
      ]
     },
     "execution_count": 1,
     "metadata": {},
     "output_type": "execute_result"
    }
   ],
   "source": [
    "import sys\n",
    "sys.path.insert(0,'..')\n",
    "sys.path"
   ]
  },
  {
   "cell_type": "code",
   "execution_count": 2,
   "id": "clear-brand",
   "metadata": {},
   "outputs": [],
   "source": [
    "from utils import DataFetch"
   ]
  },
  {
   "cell_type": "code",
   "execution_count": 3,
   "id": "spatial-actor",
   "metadata": {},
   "outputs": [
    {
     "data": {
      "text/html": [
       "<div>\n",
       "<style scoped>\n",
       "    .dataframe tbody tr th:only-of-type {\n",
       "        vertical-align: middle;\n",
       "    }\n",
       "\n",
       "    .dataframe tbody tr th {\n",
       "        vertical-align: top;\n",
       "    }\n",
       "\n",
       "    .dataframe thead th {\n",
       "        text-align: right;\n",
       "    }\n",
       "</style>\n",
       "<table border=\"1\" class=\"dataframe\">\n",
       "  <thead>\n",
       "    <tr style=\"text-align: right;\">\n",
       "      <th></th>\n",
       "      <th>ID</th>\n",
       "      <th>Patient Age</th>\n",
       "      <th>Patient Sex</th>\n",
       "      <th>Left-Fundus</th>\n",
       "      <th>Right-Fundus</th>\n",
       "      <th>Left-Diagnostic Keywords</th>\n",
       "      <th>Right-Diagnostic Keywords</th>\n",
       "      <th>N</th>\n",
       "      <th>D</th>\n",
       "      <th>G</th>\n",
       "      <th>C</th>\n",
       "      <th>A</th>\n",
       "      <th>H</th>\n",
       "      <th>M</th>\n",
       "      <th>O</th>\n",
       "      <th>filepath</th>\n",
       "      <th>labels</th>\n",
       "      <th>target</th>\n",
       "      <th>filename</th>\n",
       "    </tr>\n",
       "  </thead>\n",
       "  <tbody>\n",
       "    <tr>\n",
       "      <th>0</th>\n",
       "      <td>0</td>\n",
       "      <td>69</td>\n",
       "      <td>Female</td>\n",
       "      <td>0_left.jpg</td>\n",
       "      <td>0_right.jpg</td>\n",
       "      <td>cataract</td>\n",
       "      <td>normal fundus</td>\n",
       "      <td>0</td>\n",
       "      <td>0</td>\n",
       "      <td>0</td>\n",
       "      <td>1</td>\n",
       "      <td>0</td>\n",
       "      <td>0</td>\n",
       "      <td>0</td>\n",
       "      <td>0</td>\n",
       "      <td>../input/ocular-disease-recognition-odir5k/ODI...</td>\n",
       "      <td>['N']</td>\n",
       "      <td>[1, 0, 0, 0, 0, 0, 0, 0]</td>\n",
       "      <td>0_right.jpg</td>\n",
       "    </tr>\n",
       "    <tr>\n",
       "      <th>1</th>\n",
       "      <td>1</td>\n",
       "      <td>57</td>\n",
       "      <td>Male</td>\n",
       "      <td>1_left.jpg</td>\n",
       "      <td>1_right.jpg</td>\n",
       "      <td>normal fundus</td>\n",
       "      <td>normal fundus</td>\n",
       "      <td>1</td>\n",
       "      <td>0</td>\n",
       "      <td>0</td>\n",
       "      <td>0</td>\n",
       "      <td>0</td>\n",
       "      <td>0</td>\n",
       "      <td>0</td>\n",
       "      <td>0</td>\n",
       "      <td>../input/ocular-disease-recognition-odir5k/ODI...</td>\n",
       "      <td>['N']</td>\n",
       "      <td>[1, 0, 0, 0, 0, 0, 0, 0]</td>\n",
       "      <td>1_right.jpg</td>\n",
       "    </tr>\n",
       "    <tr>\n",
       "      <th>2</th>\n",
       "      <td>2</td>\n",
       "      <td>42</td>\n",
       "      <td>Male</td>\n",
       "      <td>2_left.jpg</td>\n",
       "      <td>2_right.jpg</td>\n",
       "      <td>laser spot，moderate non proliferative retinopathy</td>\n",
       "      <td>moderate non proliferative retinopathy</td>\n",
       "      <td>0</td>\n",
       "      <td>1</td>\n",
       "      <td>0</td>\n",
       "      <td>0</td>\n",
       "      <td>0</td>\n",
       "      <td>0</td>\n",
       "      <td>0</td>\n",
       "      <td>1</td>\n",
       "      <td>../input/ocular-disease-recognition-odir5k/ODI...</td>\n",
       "      <td>['D']</td>\n",
       "      <td>[0, 1, 0, 0, 0, 0, 0, 0]</td>\n",
       "      <td>2_right.jpg</td>\n",
       "    </tr>\n",
       "    <tr>\n",
       "      <th>3</th>\n",
       "      <td>4</td>\n",
       "      <td>53</td>\n",
       "      <td>Male</td>\n",
       "      <td>4_left.jpg</td>\n",
       "      <td>4_right.jpg</td>\n",
       "      <td>macular epiretinal membrane</td>\n",
       "      <td>mild nonproliferative retinopathy</td>\n",
       "      <td>0</td>\n",
       "      <td>1</td>\n",
       "      <td>0</td>\n",
       "      <td>0</td>\n",
       "      <td>0</td>\n",
       "      <td>0</td>\n",
       "      <td>0</td>\n",
       "      <td>1</td>\n",
       "      <td>../input/ocular-disease-recognition-odir5k/ODI...</td>\n",
       "      <td>['D']</td>\n",
       "      <td>[0, 1, 0, 0, 0, 0, 0, 0]</td>\n",
       "      <td>4_right.jpg</td>\n",
       "    </tr>\n",
       "    <tr>\n",
       "      <th>4</th>\n",
       "      <td>5</td>\n",
       "      <td>50</td>\n",
       "      <td>Female</td>\n",
       "      <td>5_left.jpg</td>\n",
       "      <td>5_right.jpg</td>\n",
       "      <td>moderate non proliferative retinopathy</td>\n",
       "      <td>moderate non proliferative retinopathy</td>\n",
       "      <td>0</td>\n",
       "      <td>1</td>\n",
       "      <td>0</td>\n",
       "      <td>0</td>\n",
       "      <td>0</td>\n",
       "      <td>0</td>\n",
       "      <td>0</td>\n",
       "      <td>0</td>\n",
       "      <td>../input/ocular-disease-recognition-odir5k/ODI...</td>\n",
       "      <td>['D']</td>\n",
       "      <td>[0, 1, 0, 0, 0, 0, 0, 0]</td>\n",
       "      <td>5_right.jpg</td>\n",
       "    </tr>\n",
       "  </tbody>\n",
       "</table>\n",
       "</div>"
      ],
      "text/plain": [
       "   ID  Patient Age Patient Sex Left-Fundus Right-Fundus  \\\n",
       "0   0           69      Female  0_left.jpg  0_right.jpg   \n",
       "1   1           57        Male  1_left.jpg  1_right.jpg   \n",
       "2   2           42        Male  2_left.jpg  2_right.jpg   \n",
       "3   4           53        Male  4_left.jpg  4_right.jpg   \n",
       "4   5           50      Female  5_left.jpg  5_right.jpg   \n",
       "\n",
       "                            Left-Diagnostic Keywords  \\\n",
       "0                                           cataract   \n",
       "1                                      normal fundus   \n",
       "2  laser spot，moderate non proliferative retinopathy   \n",
       "3                        macular epiretinal membrane   \n",
       "4             moderate non proliferative retinopathy   \n",
       "\n",
       "                Right-Diagnostic Keywords  N  D  G  C  A  H  M  O  \\\n",
       "0                           normal fundus  0  0  0  1  0  0  0  0   \n",
       "1                           normal fundus  1  0  0  0  0  0  0  0   \n",
       "2  moderate non proliferative retinopathy  0  1  0  0  0  0  0  1   \n",
       "3       mild nonproliferative retinopathy  0  1  0  0  0  0  0  1   \n",
       "4  moderate non proliferative retinopathy  0  1  0  0  0  0  0  0   \n",
       "\n",
       "                                            filepath labels  \\\n",
       "0  ../input/ocular-disease-recognition-odir5k/ODI...  ['N']   \n",
       "1  ../input/ocular-disease-recognition-odir5k/ODI...  ['N']   \n",
       "2  ../input/ocular-disease-recognition-odir5k/ODI...  ['D']   \n",
       "3  ../input/ocular-disease-recognition-odir5k/ODI...  ['D']   \n",
       "4  ../input/ocular-disease-recognition-odir5k/ODI...  ['D']   \n",
       "\n",
       "                     target     filename  \n",
       "0  [1, 0, 0, 0, 0, 0, 0, 0]  0_right.jpg  \n",
       "1  [1, 0, 0, 0, 0, 0, 0, 0]  1_right.jpg  \n",
       "2  [0, 1, 0, 0, 0, 0, 0, 0]  2_right.jpg  \n",
       "3  [0, 1, 0, 0, 0, 0, 0, 0]  4_right.jpg  \n",
       "4  [0, 1, 0, 0, 0, 0, 0, 0]  5_right.jpg  "
      ]
     },
     "execution_count": 3,
     "metadata": {},
     "output_type": "execute_result"
    }
   ],
   "source": [
    "import pandas as pd\n",
    "path = DataFetch()._get_csv_path('Kaggle','full_df.csv')\n",
    "df_csv = pd.read_csv(path)\n",
    "df_csv.head()"
   ]
  },
  {
   "cell_type": "code",
   "execution_count": 4,
   "id": "interior-victor",
   "metadata": {},
   "outputs": [],
   "source": [
    "import os\n",
    "df = pd.read_csv(os.path.join('Datasets','imagesFull.csv'))"
   ]
  },
  {
   "cell_type": "code",
   "execution_count": 7,
   "id": "geological-authentication",
   "metadata": {},
   "outputs": [
    {
     "data": {
      "text/plain": [
       "label\n",
       "A     266\n",
       "C     393\n",
       "D    1924\n",
       "G     452\n",
       "H     128\n",
       "M     232\n",
       "N    2873\n",
       "O     708\n",
       "Name: label, dtype: int64"
      ]
     },
     "execution_count": 7,
     "metadata": {},
     "output_type": "execute_result"
    }
   ],
   "source": [
    "df.head()\n",
    "df.groupby('label').label.count()"
   ]
  },
  {
   "cell_type": "code",
   "execution_count": 8,
   "id": "sitting-craps",
   "metadata": {},
   "outputs": [
    {
     "name": "stderr",
     "output_type": "stream",
     "text": [
      "100%|████████████████████████████████████████████████████████████████████████████████| 100/100 [00:19<00:00,  5.26it/s]\n",
      "100%|████████████████████████████████████████████████████████████████████████████████| 731/731 [00:41<00:00, 17.81it/s]\n",
      "100%|████████████████████████████████████████████████████████████████████████████████| 650/650 [00:32<00:00, 20.13it/s]\n",
      "100%|██████████████████████████████████████████████████████████████████████████████| 6392/6392 [01:25<00:00, 74.88it/s]\n"
     ]
    },
    {
     "data": {
      "text/html": [
       "<div>\n",
       "<style scoped>\n",
       "    .dataframe tbody tr th:only-of-type {\n",
       "        vertical-align: middle;\n",
       "    }\n",
       "\n",
       "    .dataframe tbody tr th {\n",
       "        vertical-align: top;\n",
       "    }\n",
       "\n",
       "    .dataframe thead th {\n",
       "        text-align: right;\n",
       "    }\n",
       "</style>\n",
       "<table border=\"1\" class=\"dataframe\">\n",
       "  <thead>\n",
       "    <tr style=\"text-align: right;\">\n",
       "      <th></th>\n",
       "      <th>filename</th>\n",
       "      <th>label</th>\n",
       "      <th>x</th>\n",
       "      <th>y</th>\n",
       "    </tr>\n",
       "  </thead>\n",
       "  <tbody>\n",
       "    <tr>\n",
       "      <th>0</th>\n",
       "      <td>cataract_001.png</td>\n",
       "      <td>C</td>\n",
       "      <td>[[0, 1, 0, 0, 0, 0, 0, 1, 0, 0, 1, 0, 0, 0, 1,...</td>\n",
       "      <td>[0, 1, 0, 0, 0, 0, 0, 0]</td>\n",
       "    </tr>\n",
       "    <tr>\n",
       "      <th>1</th>\n",
       "      <td>cataract_002.png</td>\n",
       "      <td>C</td>\n",
       "      <td>[[1, 0, 0, 0, 0, 1, 0, 1, 0, 0, 0, 0, 0, 0, 1,...</td>\n",
       "      <td>[0, 1, 0, 0, 0, 0, 0, 0]</td>\n",
       "    </tr>\n",
       "    <tr>\n",
       "      <th>2</th>\n",
       "      <td>cataract_003.png</td>\n",
       "      <td>C</td>\n",
       "      <td>[[0, 0, 0, 0, 0, 0, 0, 0, 0, 0, 0, 0, 0, 0, 0,...</td>\n",
       "      <td>[0, 1, 0, 0, 0, 0, 0, 0]</td>\n",
       "    </tr>\n",
       "    <tr>\n",
       "      <th>3</th>\n",
       "      <td>cataract_004.png</td>\n",
       "      <td>C</td>\n",
       "      <td>[[0, 0, 0, 0, 1, 0, 0, 0, 0, 0, 1, 2, 0, 0, 1,...</td>\n",
       "      <td>[0, 1, 0, 0, 0, 0, 0, 0]</td>\n",
       "    </tr>\n",
       "    <tr>\n",
       "      <th>4</th>\n",
       "      <td>cataract_005.png</td>\n",
       "      <td>C</td>\n",
       "      <td>[[0, 0, 0, 0, 0, 0, 0, 0, 0, 0, 0, 0, 0, 0, 0,...</td>\n",
       "      <td>[0, 1, 0, 0, 0, 0, 0, 0]</td>\n",
       "    </tr>\n",
       "    <tr>\n",
       "      <th>...</th>\n",
       "      <td>...</td>\n",
       "      <td>...</td>\n",
       "      <td>...</td>\n",
       "      <td>...</td>\n",
       "    </tr>\n",
       "    <tr>\n",
       "      <th>6971</th>\n",
       "      <td>4637_left.jpg</td>\n",
       "      <td>N</td>\n",
       "      <td>[[0, 0, 0, 0, 0, 0, 0, 0, 0, 0, 0, 0, 0, 0, 0,...</td>\n",
       "      <td>[0, 0, 0, 0, 0, 0, 1, 0]</td>\n",
       "    </tr>\n",
       "    <tr>\n",
       "      <th>6972</th>\n",
       "      <td>4639_left.jpg</td>\n",
       "      <td>N</td>\n",
       "      <td>[[0, 0, 0, 0, 0, 0, 0, 0, 0, 0, 0, 0, 0, 0, 0,...</td>\n",
       "      <td>[0, 0, 0, 0, 0, 0, 1, 0]</td>\n",
       "    </tr>\n",
       "    <tr>\n",
       "      <th>6973</th>\n",
       "      <td>4641_left.jpg</td>\n",
       "      <td>N</td>\n",
       "      <td>[[0, 0, 0, 0, 0, 0, 0, 0, 0, 0, 0, 0, 0, 0, 0,...</td>\n",
       "      <td>[0, 0, 0, 0, 0, 0, 1, 0]</td>\n",
       "    </tr>\n",
       "    <tr>\n",
       "      <th>6974</th>\n",
       "      <td>4672_left.jpg</td>\n",
       "      <td>N</td>\n",
       "      <td>[[0, 0, 0, 0, 0, 0, 0, 0, 0, 0, 0, 0, 0, 0, 0,...</td>\n",
       "      <td>[0, 0, 0, 0, 0, 0, 1, 0]</td>\n",
       "    </tr>\n",
       "    <tr>\n",
       "      <th>6975</th>\n",
       "      <td>4683_left.jpg</td>\n",
       "      <td>N</td>\n",
       "      <td>[[0, 0, 0, 0, 0, 0, 0, 0, 0, 0, 0, 0, 0, 0, 0,...</td>\n",
       "      <td>[0, 0, 0, 0, 0, 0, 1, 0]</td>\n",
       "    </tr>\n",
       "  </tbody>\n",
       "</table>\n",
       "<p>6976 rows × 4 columns</p>\n",
       "</div>"
      ],
      "text/plain": [
       "              filename label  \\\n",
       "0     cataract_001.png     C   \n",
       "1     cataract_002.png     C   \n",
       "2     cataract_003.png     C   \n",
       "3     cataract_004.png     C   \n",
       "4     cataract_005.png     C   \n",
       "...                ...   ...   \n",
       "6971     4637_left.jpg     N   \n",
       "6972     4639_left.jpg     N   \n",
       "6973     4641_left.jpg     N   \n",
       "6974     4672_left.jpg     N   \n",
       "6975     4683_left.jpg     N   \n",
       "\n",
       "                                                      x  \\\n",
       "0     [[0, 1, 0, 0, 0, 0, 0, 1, 0, 0, 1, 0, 0, 0, 1,...   \n",
       "1     [[1, 0, 0, 0, 0, 1, 0, 1, 0, 0, 0, 0, 0, 0, 1,...   \n",
       "2     [[0, 0, 0, 0, 0, 0, 0, 0, 0, 0, 0, 0, 0, 0, 0,...   \n",
       "3     [[0, 0, 0, 0, 1, 0, 0, 0, 0, 0, 1, 2, 0, 0, 1,...   \n",
       "4     [[0, 0, 0, 0, 0, 0, 0, 0, 0, 0, 0, 0, 0, 0, 0,...   \n",
       "...                                                 ...   \n",
       "6971  [[0, 0, 0, 0, 0, 0, 0, 0, 0, 0, 0, 0, 0, 0, 0,...   \n",
       "6972  [[0, 0, 0, 0, 0, 0, 0, 0, 0, 0, 0, 0, 0, 0, 0,...   \n",
       "6973  [[0, 0, 0, 0, 0, 0, 0, 0, 0, 0, 0, 0, 0, 0, 0,...   \n",
       "6974  [[0, 0, 0, 0, 0, 0, 0, 0, 0, 0, 0, 0, 0, 0, 0,...   \n",
       "6975  [[0, 0, 0, 0, 0, 0, 0, 0, 0, 0, 0, 0, 0, 0, 0,...   \n",
       "\n",
       "                             y  \n",
       "0     [0, 1, 0, 0, 0, 0, 0, 0]  \n",
       "1     [0, 1, 0, 0, 0, 0, 0, 0]  \n",
       "2     [0, 1, 0, 0, 0, 0, 0, 0]  \n",
       "3     [0, 1, 0, 0, 0, 0, 0, 0]  \n",
       "4     [0, 1, 0, 0, 0, 0, 0, 0]  \n",
       "...                        ...  \n",
       "6971  [0, 0, 0, 0, 0, 0, 1, 0]  \n",
       "6972  [0, 0, 0, 0, 0, 0, 1, 0]  \n",
       "6973  [0, 0, 0, 0, 0, 0, 1, 0]  \n",
       "6974  [0, 0, 0, 0, 0, 0, 1, 0]  \n",
       "6975  [0, 0, 0, 0, 0, 0, 1, 0]  \n",
       "\n",
       "[6976 rows x 4 columns]"
      ]
     },
     "execution_count": 8,
     "metadata": {},
     "output_type": "execute_result"
    }
   ],
   "source": [
    "df,x,y = DataFetch().load_multiple(64)\n",
    "df"
   ]
  },
  {
   "cell_type": "code",
   "execution_count": 9,
   "id": "contrary-twenty",
   "metadata": {},
   "outputs": [
    {
     "name": "stdout",
     "output_type": "stream",
     "text": [
      "(6976, 64, 64)\n",
      "(6976, 8)\n"
     ]
    }
   ],
   "source": [
    "print(x.shape)\n",
    "print(y.shape)"
   ]
  },
  {
   "cell_type": "code",
   "execution_count": 6,
   "id": "lesbian-leather",
   "metadata": {},
   "outputs": [],
   "source": [
    "import numpy as np\n",
    "images = []\n",
    "labels = []\n",
    "for i in range(len(df)):\n",
    "    img = df['x'][i]\n",
    "    label = df['y'][i]\n",
    "    images.append(img)\n",
    "    labels.append(label)\n",
    "    \n",
    "images = np.array(images)\n",
    "labels = np.array(labels)"
   ]
  },
  {
   "cell_type": "code",
   "execution_count": 7,
   "id": "urban-stock",
   "metadata": {},
   "outputs": [
    {
     "name": "stdout",
     "output_type": "stream",
     "text": [
      "(6976, 64, 64)\n",
      "(6976, 8)\n"
     ]
    }
   ],
   "source": [
    "print(images.shape)\n",
    "print(labels.shape)"
   ]
  },
  {
   "cell_type": "code",
   "execution_count": 14,
   "id": "pharmaceutical-butler",
   "metadata": {},
   "outputs": [],
   "source": [
    "compression_opts = dict(method='zip',\n",
    "                        archive_name='imagesFull.csv')  \n",
    "df.to_csv('imagesFull.zip', index=False,\n",
    "          compression=compression_opts)"
   ]
  },
  {
   "cell_type": "code",
   "execution_count": 7,
   "id": "enclosed-turtle",
   "metadata": {},
   "outputs": [
    {
     "data": {
      "text/plain": [
       "label\n",
       "A     266\n",
       "C     393\n",
       "D    2339\n",
       "G     934\n",
       "H     128\n",
       "M     232\n",
       "N    2873\n",
       "O     708\n",
       "Name: label, dtype: int64"
      ]
     },
     "execution_count": 7,
     "metadata": {},
     "output_type": "execute_result"
    }
   ],
   "source": [
    "df.groupby('label')['label'].count()"
   ]
  },
  {
   "cell_type": "code",
   "execution_count": 10,
   "id": "involved-finnish",
   "metadata": {},
   "outputs": [
    {
     "data": {
      "text/plain": [
       "label\n",
       "A     266\n",
       "C     393\n",
       "D    1924\n",
       "G     452\n",
       "H     128\n",
       "M     232\n",
       "N    2873\n",
       "O     708\n",
       "Name: label, dtype: int64"
      ]
     },
     "execution_count": 10,
     "metadata": {},
     "output_type": "execute_result"
    }
   ],
   "source": [
    "df\n",
    "df.groupby('label')['label'].count()"
   ]
  },
  {
   "cell_type": "code",
   "execution_count": 12,
   "id": "frozen-commerce",
   "metadata": {},
   "outputs": [],
   "source": [
    "import os\n",
    "import cv2\n",
    "images = []\n",
    "labels = []\n",
    "for i in range(len(df_csv)):\n",
    "    img = cv2.imread(os.path.join('Datasets','Kaggle',\"preprocessed_images\",df_csv['filename'][i]))\n",
    "    img = cv2.resize(img,(32,32))\n",
    "    label = df_csv['target'][i]\n",
    "    images.append(img)\n",
    "    labels.append(label)"
   ]
  },
  {
   "cell_type": "code",
   "execution_count": 20,
   "id": "infrared-valuation",
   "metadata": {},
   "outputs": [
    {
     "name": "stdout",
     "output_type": "stream",
     "text": [
      "(6392, 32, 32, 3)\n"
     ]
    },
    {
     "data": {
      "text/plain": [
       "(6392,)"
      ]
     },
     "execution_count": 20,
     "metadata": {},
     "output_type": "execute_result"
    }
   ],
   "source": [
    "import numpy as np\n",
    "print(np.array(images).shape)\n",
    "np.array(labels).shape"
   ]
  },
  {
   "cell_type": "code",
   "execution_count": 26,
   "id": "moved-future",
   "metadata": {},
   "outputs": [
    {
     "data": {
      "text/plain": [
       "labels\n",
       "['A']     266\n",
       "['C']     293\n",
       "['D']    1608\n",
       "['G']     284\n",
       "['H']     128\n",
       "['M']     232\n",
       "['N']    2873\n",
       "['O']     708\n",
       "Name: labels, dtype: int64"
      ]
     },
     "execution_count": 26,
     "metadata": {},
     "output_type": "execute_result"
    }
   ],
   "source": [
    "df_csv.groupby('labels').labels.count()\n",
    "#df.groupby('y').count()"
   ]
  },
  {
   "cell_type": "code",
   "execution_count": 27,
   "id": "miniature-velvet",
   "metadata": {},
   "outputs": [
    {
     "data": {
      "text/plain": [
       "1186_right.jpg    1\n",
       "2369_right.jpg    1\n",
       "3018_right.jpg    1\n",
       "1844_left.jpg     1\n",
       "4245_left.jpg     1\n",
       "                 ..\n",
       "4310_left.jpg     1\n",
       "776_right.jpg     1\n",
       "1889_left.jpg     1\n",
       "86_left.jpg       1\n",
       "1677_right.jpg    1\n",
       "Name: filename, Length: 6392, dtype: int64"
      ]
     },
     "execution_count": 27,
     "metadata": {},
     "output_type": "execute_result"
    }
   ],
   "source": [
    "df_csv['filename'].value_counts()"
   ]
  },
  {
   "cell_type": "markdown",
   "id": "opened-chemical",
   "metadata": {},
   "source": [
    "# Diabetic Retinophaty"
   ]
  },
  {
   "cell_type": "code",
   "execution_count": 3,
   "id": "dependent-batman",
   "metadata": {},
   "outputs": [
    {
     "name": "stderr",
     "output_type": "stream",
     "text": [
      "100%|███████████████████████████████████████████████████████████████████████████████| 165/165 [00:00<00:00, 176.66it/s]\n",
      "100%|████████████████████████████████████████████████████████████████████████████████| 731/731 [00:15<00:00, 48.40it/s]\n",
      "100%|███████████████████████████████████████████████████████████████████████████████| 481/481 [00:02<00:00, 237.53it/s]\n"
     ]
    }
   ],
   "source": [
    "dr_images, dr_labels = DataFetch().load_DR(64,64)"
   ]
  },
  {
   "cell_type": "code",
   "execution_count": 7,
   "id": "prostate-wright",
   "metadata": {},
   "outputs": [
    {
     "name": "stdout",
     "output_type": "stream",
     "text": [
      "(962, 64, 64, 3)\n",
      "(962,)\n"
     ]
    },
    {
     "data": {
      "text/plain": [
       "(array([0, 1]), array([481, 481], dtype=int64))"
      ]
     },
     "execution_count": 7,
     "metadata": {},
     "output_type": "execute_result"
    }
   ],
   "source": [
    "print(dr_images.shape)\n",
    "print(dr_labels.shape)\n",
    "np.unique(dr_labels, return_counts=True)"
   ]
  },
  {
   "cell_type": "code",
   "execution_count": 8,
   "id": "furnished-mistake",
   "metadata": {},
   "outputs": [],
   "source": [
    "DataFetch().save_images('dr_images',dr_images)\n",
    "DataFetch().save_images('dr_labels',dr_labels)"
   ]
  },
  {
   "cell_type": "code",
   "execution_count": 3,
   "id": "public-constitution",
   "metadata": {},
   "outputs": [],
   "source": [
    "dr_images = DataFetch().load_images('dr_images.npy')\n",
    "dr_labels = DataFetch().load_images('dr_labels.npy')"
   ]
  },
  {
   "cell_type": "code",
   "execution_count": 4,
   "id": "improving-hometown",
   "metadata": {},
   "outputs": [
    {
     "name": "stdout",
     "output_type": "stream",
     "text": [
      "(962, 224, 224, 3)\n",
      "(962,)\n"
     ]
    },
    {
     "data": {
      "text/plain": [
       "(array([0, 1]), array([481, 481], dtype=int64))"
      ]
     },
     "execution_count": 4,
     "metadata": {},
     "output_type": "execute_result"
    }
   ],
   "source": [
    "print(dr_images.shape)\n",
    "print(dr_labels.shape)\n",
    "np.unique(dr_labels, return_counts=True)"
   ]
  },
  {
   "cell_type": "markdown",
   "id": "impressive-holder",
   "metadata": {},
   "source": [
    "# Cataracts"
   ]
  },
  {
   "cell_type": "code",
   "execution_count": 9,
   "id": "failing-circuit",
   "metadata": {},
   "outputs": [],
   "source": [
    "import pandas as pd\n",
    "csv_path = DataFetch()._get_csv_path('Kaggle2', 'kaggle2Cataract.csv')\n",
    "df = pd.read_csv(csv_path)\n",
    "file_names = DataFetch()._get_file_names('Kaggle2', 'cataracts', df, 'name')#GET FILE NAMES"
   ]
  },
  {
   "cell_type": "code",
   "execution_count": 11,
   "id": "governing-tennis",
   "metadata": {},
   "outputs": [
    {
     "data": {
      "text/html": [
       "<div>\n",
       "<style scoped>\n",
       "    .dataframe tbody tr th:only-of-type {\n",
       "        vertical-align: middle;\n",
       "    }\n",
       "\n",
       "    .dataframe tbody tr th {\n",
       "        vertical-align: top;\n",
       "    }\n",
       "\n",
       "    .dataframe thead th {\n",
       "        text-align: right;\n",
       "    }\n",
       "</style>\n",
       "<table border=\"1\" class=\"dataframe\">\n",
       "  <thead>\n",
       "    <tr style=\"text-align: right;\">\n",
       "      <th></th>\n",
       "      <th>filenames</th>\n",
       "    </tr>\n",
       "  </thead>\n",
       "  <tbody>\n",
       "    <tr>\n",
       "      <th>0</th>\n",
       "      <td>cataract_001.png</td>\n",
       "    </tr>\n",
       "    <tr>\n",
       "      <th>1</th>\n",
       "      <td>cataract_002.png</td>\n",
       "    </tr>\n",
       "    <tr>\n",
       "      <th>2</th>\n",
       "      <td>cataract_003.png</td>\n",
       "    </tr>\n",
       "    <tr>\n",
       "      <th>3</th>\n",
       "      <td>cataract_004.png</td>\n",
       "    </tr>\n",
       "    <tr>\n",
       "      <th>4</th>\n",
       "      <td>cataract_005.png</td>\n",
       "    </tr>\n",
       "  </tbody>\n",
       "</table>\n",
       "</div>"
      ],
      "text/plain": [
       "          filenames\n",
       "0  cataract_001.png\n",
       "1  cataract_002.png\n",
       "2  cataract_003.png\n",
       "3  cataract_004.png\n",
       "4  cataract_005.png"
      ]
     },
     "execution_count": 11,
     "metadata": {},
     "output_type": "execute_result"
    }
   ],
   "source": [
    "df_cat = pd.DataFrame()\n",
    "df_cat['filenames'] = file_names\n",
    "df_cat.head()"
   ]
  },
  {
   "cell_type": "code",
   "execution_count": 3,
   "id": "medieval-gardening",
   "metadata": {},
   "outputs": [
    {
     "name": "stderr",
     "output_type": "stream",
     "text": [
      "100%|███████████████████████████████████████████████████████████████████████████████| 594/594 [00:01<00:00, 340.49it/s]\n",
      "100%|████████████████████████████████████████████████████████████████████████████████| 100/100 [00:06<00:00, 16.02it/s]\n"
     ]
    }
   ],
   "source": [
    "#cat_images, cat_labels = DataFetch().load_Cataracts(64, 64)\n",
    "cat_images = DataFetch().load_Cataracts(64, 64)"
   ]
  },
  {
   "cell_type": "code",
   "execution_count": 5,
   "id": "indoor-frederick",
   "metadata": {},
   "outputs": [
    {
     "data": {
      "text/plain": [
       "(694, 64, 64)"
      ]
     },
     "execution_count": 5,
     "metadata": {},
     "output_type": "execute_result"
    }
   ],
   "source": [
    "cat_images.shape"
   ]
  },
  {
   "cell_type": "code",
   "execution_count": 4,
   "id": "brutal-stocks",
   "metadata": {},
   "outputs": [
    {
     "name": "stdout",
     "output_type": "stream",
     "text": [
      "(1388, 64, 64)\n",
      "(1388,)\n"
     ]
    },
    {
     "data": {
      "text/plain": [
       "(array([0, 1]), array([694, 694], dtype=int64))"
      ]
     },
     "execution_count": 4,
     "metadata": {},
     "output_type": "execute_result"
    }
   ],
   "source": [
    "print(cat_images.shape)\n",
    "print(cat_labels.shape)\n",
    "np.unique(cat_labels, return_counts=True)"
   ]
  },
  {
   "cell_type": "code",
   "execution_count": 11,
   "id": "other-associate",
   "metadata": {},
   "outputs": [],
   "source": [
    "DataFetch().save_images('cat_images',cat_images)\n",
    "DataFetch().save_images('cat_labels',cat_labels)"
   ]
  },
  {
   "cell_type": "code",
   "execution_count": 3,
   "id": "answering-village",
   "metadata": {},
   "outputs": [],
   "source": [
    "cat_images = DataFetch().load_images('cat_images.npy')\n",
    "cat_labels = DataFetch().load_images('cat_labels.npy')"
   ]
  },
  {
   "cell_type": "code",
   "execution_count": 5,
   "id": "bright-grave",
   "metadata": {},
   "outputs": [
    {
     "name": "stdout",
     "output_type": "stream",
     "text": [
      "(1388, 64, 64, 3)\n",
      "(1388,)\n"
     ]
    },
    {
     "data": {
      "text/plain": [
       "(array([0, 1]), array([694, 694], dtype=int64))"
      ]
     },
     "execution_count": 5,
     "metadata": {},
     "output_type": "execute_result"
    }
   ],
   "source": [
    "print(cat_images.shape)\n",
    "print(cat_labels.shape)\n",
    "np.unique(cat_labels, return_counts=True)"
   ]
  },
  {
   "cell_type": "code",
   "execution_count": 5,
   "id": "animal-feeling",
   "metadata": {},
   "outputs": [
    {
     "data": {
      "text/plain": [
       "3"
      ]
     },
     "execution_count": 5,
     "metadata": {},
     "output_type": "execute_result"
    }
   ],
   "source": [
    "cat_images.ndim"
   ]
  },
  {
   "cell_type": "code",
   "execution_count": 6,
   "id": "optimum-roommate",
   "metadata": {},
   "outputs": [
    {
     "data": {
      "text/plain": [
       "<matplotlib.image.AxesImage at 0x18e1b082908>"
      ]
     },
     "execution_count": 6,
     "metadata": {},
     "output_type": "execute_result"
    },
    {
     "data": {
      "image/png": "[encoded data removed]",
      "text/plain": [
       "<Figure size 432x288 with 1 Axes>"
      ]
     },
     "metadata": {
      "needs_background": "light"
     },
     "output_type": "display_data"
    }
   ],
   "source": [
    "plt.imshow(cat_images[0]/255)"
   ]
  },
  {
   "cell_type": "markdown",
   "id": "consistent-probability",
   "metadata": {},
   "source": [
    "# Glaucoma"
   ]
  },
  {
   "cell_type": "code",
   "execution_count": 7,
   "id": "scenic-token",
   "metadata": {},
   "outputs": [
    {
     "name": "stderr",
     "output_type": "stream",
     "text": [
      "100%|███████████████████████████████████████████████████████████████████████████████| 616/616 [00:02<00:00, 292.09it/s]\n",
      "100%|████████████████████████████████████████████████████████████████████████████████| 650/650 [00:10<00:00, 62.21it/s]\n",
      "100%|███████████████████████████████████████████████████████████████████████████████| 784/784 [00:02<00:00, 269.11it/s]\n"
     ]
    }
   ],
   "source": [
    "glau_images, glau_labels = DataFetch().load_Glaucoma(64, 64)"
   ]
  },
  {
   "cell_type": "code",
   "execution_count": 8,
   "id": "dressed-registrar",
   "metadata": {},
   "outputs": [
    {
     "name": "stdout",
     "output_type": "stream",
     "text": [
      "(1568, 224, 224, 3)\n",
      "(1568,)\n"
     ]
    },
    {
     "data": {
      "text/plain": [
       "(array([0, 1]), array([784, 784], dtype=int64))"
      ]
     },
     "execution_count": 8,
     "metadata": {},
     "output_type": "execute_result"
    }
   ],
   "source": [
    "print(glau_images.shape)\n",
    "print(glau_labels.shape)\n",
    "np.unique(glau_labels, return_counts=True)"
   ]
  },
  {
   "cell_type": "code",
   "execution_count": 9,
   "id": "floral-saver",
   "metadata": {},
   "outputs": [],
   "source": [
    "DataFetch().save_images('glau_images',glau_images)\n",
    "DataFetch().save_images('glau_labels',glau_labels)"
   ]
  },
  {
   "cell_type": "code",
   "execution_count": null,
   "id": "appropriate-experiment",
   "metadata": {},
   "outputs": [],
   "source": [
    "glau_images = DataFetch().load_images('glau_images.npy')\n",
    "glau_labels = DataFetch().load_images('glau_labels.npy')"
   ]
  },
  {
   "cell_type": "code",
   "execution_count": null,
   "id": "protected-birthday",
   "metadata": {},
   "outputs": [],
   "source": [
    "print(glau_images.shape)\n",
    "print(glau_labels.shape)\n",
    "np.unique(glau_labels, return_counts=True)"
   ]
  },
  {
   "cell_type": "markdown",
   "id": "returning-democracy",
   "metadata": {},
   "source": [
    "# Trials"
   ]
  },
  {
   "cell_type": "code",
   "execution_count": 10,
   "id": "fabulous-illness",
   "metadata": {},
   "outputs": [
    {
     "data": {
      "text/plain": [
       "'C:\\\\Users\\\\beto_\\\\GitHub\\\\InnoSpark-edir'"
      ]
     },
     "execution_count": 10,
     "metadata": {},
     "output_type": "execute_result"
    }
   ],
   "source": [
    "os.chdir('..')\n",
    "os.getcwd()"
   ]
  },
  {
   "cell_type": "code",
   "execution_count": 12,
   "id": "hearing-confirmation",
   "metadata": {},
   "outputs": [],
   "source": [
    "path = os.path.join('Datasets','glau_images.npy')\n",
    "glau_images = np.load(path)"
   ]
  },
  {
   "cell_type": "code",
   "execution_count": 2,
   "id": "spatial-check",
   "metadata": {},
   "outputs": [],
   "source": [
    "glau_images = DataFetch()._load_images('glau_images.npy')"
   ]
  },
  {
   "cell_type": "code",
   "execution_count": 3,
   "id": "massive-canyon",
   "metadata": {},
   "outputs": [
    {
     "data": {
      "text/plain": [
       "(784, 224, 224, 3)"
      ]
     },
     "execution_count": 3,
     "metadata": {},
     "output_type": "execute_result"
    }
   ],
   "source": [
    "glau_images.shape"
   ]
  },
  {
   "cell_type": "code",
   "execution_count": 4,
   "id": "color-divorce",
   "metadata": {},
   "outputs": [],
   "source": [
    "DataFetch()._save_images('glau_images',glau_images)"
   ]
  },
  {
   "cell_type": "code",
   "execution_count": 2,
   "id": "paperback-qatar",
   "metadata": {},
   "outputs": [
    {
     "data": {
      "text/plain": [
       "(42, 151, 332, 1)"
      ]
     },
     "execution_count": 2,
     "metadata": {},
     "output_type": "execute_result"
    }
   ],
   "source": [
    "catAnt_images = DataFetch().load_catAnt()\n",
    "catAnt_images.shape"
   ]
  },
  {
   "cell_type": "code",
   "execution_count": 3,
   "id": "renewable-asset",
   "metadata": {},
   "outputs": [],
   "source": [
    "DataFetch()._save_images('catAnt_images',catAnt_images)"
   ]
  },
  {
   "cell_type": "code",
   "execution_count": 8,
   "id": "generic-baseball",
   "metadata": {},
   "outputs": [
    {
     "data": {
      "text/plain": [
       "(224, 224, 3)"
      ]
     },
     "execution_count": 8,
     "metadata": {},
     "output_type": "execute_result"
    }
   ],
   "source": [
    "dr_images[0].shape\n",
    "plt.imshow(dr_images[0])"
   ]
  },
  {
   "cell_type": "code",
   "execution_count": null,
   "id": "superior-pierre",
   "metadata": {},
   "outputs": [],
   "source": [
    "os.listdir(os.getcwd())#Gets the names of FILES where you are standing. \n",
    "os.path.expanduser('~/GitHub/InnoSpark-edir/Datasets/8-Messidor/messidor_data.csv')#GETS YOU TO THE USER FOLDER beto_\n",
    "os.path.relpath(\"InnoSpark-edir/Datasets\")#BUILDS THE PATH THAT YOU DESIRE. \n",
    "# get current directory \n",
    "path = os.getcwd() \n",
    "print(\"Current Directory\", path) \n",
    "# parent directory \n",
    "parent = os.path.dirname(path) #DIRNAME GIVES YOU THE NAME OF THE DIRECTORY YOU ARE STANDING\n",
    "print(\"Parent directory\", parent) \n",
    "\n",
    "df = pd.read_csv('../Datasets/8-Messidor/messidor_data.csv')\n",
    "\n",
    "path = os.path.abspath(os.path.join(os.path.dirname('messidor_data.csv'),\"..\"))\n",
    "\n",
    "print(os.path.basename(path))\n",
    "os.path.basename(parent)\n",
    "\n",
    "realpath = os.path.realpath('/InnoSpark-edir/DataSets')"
   ]
  },
  {
   "cell_type": "code",
   "execution_count": 9,
   "id": "waiting-duration",
   "metadata": {},
   "outputs": [],
   "source": [
    "wd = os.getcwd()\n",
    "name = os.path.basename(wd)\n",
    "while name!='InnoSpark-edir':\n",
    "    print(name)\n",
    "    if name == 'InnoSpark-edir':\n",
    "        #path = os.getcwd()\n",
    "        continue\n",
    "    else:\n",
    "        os.chdir('..')\n",
    "        name = os.path.basename(os.getcwd())"
   ]
  },
  {
   "cell_type": "code",
   "execution_count": 16,
   "id": "informed-standard",
   "metadata": {},
   "outputs": [
    {
     "data": {
      "text/plain": [
       "'C:\\\\Users\\\\beto_\\\\GitHub\\\\InnoSpark-edir\\\\Datasets\\\\8-Messidor\\\\messidor_data.csv'"
      ]
     },
     "execution_count": 16,
     "metadata": {},
     "output_type": "execute_result"
    }
   ],
   "source": [
    "folder = '8-Messidor'\n",
    "file_name = 'messidor_data.csv'\n",
    "ds_path=os.path.join('Datasets',folder,file_name)\n",
    "#ds_path=os.path.relpath('Datasets/8-Messidor/messidor_data.csv')\n",
    "file_path = os.path.join(os.getcwd(),ds_path)\n",
    "file_path"
   ]
  },
  {
   "cell_type": "code",
   "execution_count": 70,
   "id": "informational-energy",
   "metadata": {},
   "outputs": [
    {
     "name": "stdout",
     "output_type": "stream",
     "text": [
      "C:\\Users\\beto_\\GitHub\\InnoSpark-edir\\ML first attempt\n",
      "ML first attempt\n",
      "C:\\Users\\beto_\\GitHub\\InnoSpark-edir\n",
      "InnoSpark-edir\n"
     ]
    }
   ],
   "source": [
    "print(os.getcwd())\n",
    "print(os.path.basename(os.getcwd()))\n",
    "print(os.path.dirname(os.getcwd()))\n",
    "print(os.path.basename(os.path.dirname(os.getcwd())))"
   ]
  }
 ],
 "metadata": {
  "kernelspec": {
   "display_name": "Python 3",
   "language": "python",
   "name": "python3"
  },
  "language_info": {
   "codemirror_mode": {
    "name": "ipython",
    "version": 3
   },
   "file_extension": ".py",
   "mimetype": "text/x-python",
   "name": "python",
   "nbconvert_exporter": "python",
   "pygments_lexer": "ipython3",
   "version": "3.7.9"
  }
 },
 "nbformat": 4,
 "nbformat_minor": 5
}
